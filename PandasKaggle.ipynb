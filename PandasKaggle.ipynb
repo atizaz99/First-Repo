{
 "cells": [
  {
   "cell_type": "code",
   "execution_count": 1,
   "id": "3ce385af",
   "metadata": {},
   "outputs": [],
   "source": [
    "import pandas as pd"
   ]
  },
  {
   "cell_type": "markdown",
   "id": "19611916",
   "metadata": {},
   "source": [
    "# Creating Data\n",
    "Pandas has two core objects: \n",
    "1) DataFrame\n",
    "2) Series"
   ]
  },
  {
   "cell_type": "markdown",
   "id": "d7193536",
   "metadata": {},
   "source": [
    "# DataFrame\n",
    "A DataFrame is a table."
   ]
  },
  {
   "cell_type": "code",
   "execution_count": 3,
   "id": "2da91a66",
   "metadata": {},
   "outputs": [
    {
     "data": {
      "text/html": [
       "<div>\n",
       "<style scoped>\n",
       "    .dataframe tbody tr th:only-of-type {\n",
       "        vertical-align: middle;\n",
       "    }\n",
       "\n",
       "    .dataframe tbody tr th {\n",
       "        vertical-align: top;\n",
       "    }\n",
       "\n",
       "    .dataframe thead th {\n",
       "        text-align: right;\n",
       "    }\n",
       "</style>\n",
       "<table border=\"1\" class=\"dataframe\">\n",
       "  <thead>\n",
       "    <tr style=\"text-align: right;\">\n",
       "      <th></th>\n",
       "      <th>Yes</th>\n",
       "      <th>No</th>\n",
       "    </tr>\n",
       "  </thead>\n",
       "  <tbody>\n",
       "    <tr>\n",
       "      <th>0</th>\n",
       "      <td>30</td>\n",
       "      <td>34</td>\n",
       "    </tr>\n",
       "    <tr>\n",
       "      <th>1</th>\n",
       "      <td>12</td>\n",
       "      <td>66</td>\n",
       "    </tr>\n",
       "  </tbody>\n",
       "</table>\n",
       "</div>"
      ],
      "text/plain": [
       "   Yes  No\n",
       "0   30  34\n",
       "1   12  66"
      ]
     },
     "execution_count": 3,
     "metadata": {},
     "output_type": "execute_result"
    }
   ],
   "source": [
    "data = pd.DataFrame({'Yes':[30, 12], 'No':[34, 66]})\n",
    "data"
   ]
  },
  {
   "cell_type": "markdown",
   "id": "fc88252c",
   "metadata": {},
   "source": [
    "# Indexing the  DataFrame\n",
    "Use index key word in the DataFrame"
   ]
  },
  {
   "cell_type": "code",
   "execution_count": 5,
   "id": "bc956978",
   "metadata": {},
   "outputs": [
    {
     "data": {
      "text/html": [
       "<div>\n",
       "<style scoped>\n",
       "    .dataframe tbody tr th:only-of-type {\n",
       "        vertical-align: middle;\n",
       "    }\n",
       "\n",
       "    .dataframe tbody tr th {\n",
       "        vertical-align: top;\n",
       "    }\n",
       "\n",
       "    .dataframe thead th {\n",
       "        text-align: right;\n",
       "    }\n",
       "</style>\n",
       "<table border=\"1\" class=\"dataframe\">\n",
       "  <thead>\n",
       "    <tr style=\"text-align: right;\">\n",
       "      <th></th>\n",
       "      <th>h</th>\n",
       "      <th>y</th>\n",
       "    </tr>\n",
       "  </thead>\n",
       "  <tbody>\n",
       "    <tr>\n",
       "      <th>A</th>\n",
       "      <td>I like it.</td>\n",
       "      <td>112</td>\n",
       "    </tr>\n",
       "    <tr>\n",
       "      <th>B</th>\n",
       "      <td>what</td>\n",
       "      <td>45</td>\n",
       "    </tr>\n",
       "  </tbody>\n",
       "</table>\n",
       "</div>"
      ],
      "text/plain": [
       "            h    y\n",
       "A  I like it.  112\n",
       "B        what   45"
      ]
     },
     "execution_count": 5,
     "metadata": {},
     "output_type": "execute_result"
    }
   ],
   "source": [
    "indx = pd.DataFrame({'h': ['I like it.', 'what'], 'y':[112, 45]}, \n",
    "       index = ['A', 'B'])\n",
    "indx"
   ]
  },
  {
   "cell_type": "markdown",
   "id": "1972e3b4",
   "metadata": {},
   "source": [
    "# Series\n",
    "Sequence of data value"
   ]
  },
  {
   "cell_type": "code",
   "execution_count": 8,
   "id": "26a9957e",
   "metadata": {},
   "outputs": [
    {
     "data": {
      "text/plain": [
       "1    [1, 2, 4, 7, 89]\n",
       "2    [23, 45, 67, 87]\n",
       "dtype: object"
      ]
     },
     "execution_count": 8,
     "metadata": {},
     "output_type": "execute_result"
    }
   ],
   "source": [
    "pd.Series({1:[1, 2, 4, 7, 89], 2:[23, 45, 67, 87]})"
   ]
  },
  {
   "cell_type": "markdown",
   "id": "b63de772",
   "metadata": {},
   "source": [
    "# Naming the series\n"
   ]
  },
  {
   "cell_type": "code",
   "execution_count": 9,
   "id": "b8838114",
   "metadata": {},
   "outputs": [
    {
     "data": {
      "text/plain": [
       "1    [1, 2, 4, 7, 89]\n",
       "2    [23, 45, 67, 87]\n",
       "Name: Practice, dtype: object"
      ]
     },
     "execution_count": 9,
     "metadata": {},
     "output_type": "execute_result"
    }
   ],
   "source": [
    "pd.Series({1:[1, 2, 4, 7, 89], 2:[23, 45, 67, 87]}, name = 'Practice')"
   ]
  },
  {
   "cell_type": "code",
   "execution_count": null,
   "id": "227670fe",
   "metadata": {},
   "outputs": [],
   "source": []
  }
 ],
 "metadata": {
  "kernelspec": {
   "display_name": "Python 3 (ipykernel)",
   "language": "python",
   "name": "python3"
  },
  "language_info": {
   "codemirror_mode": {
    "name": "ipython",
    "version": 3
   },
   "file_extension": ".py",
   "mimetype": "text/x-python",
   "name": "python",
   "nbconvert_exporter": "python",
   "pygments_lexer": "ipython3",
   "version": "3.9.13"
  }
 },
 "nbformat": 4,
 "nbformat_minor": 5
}
