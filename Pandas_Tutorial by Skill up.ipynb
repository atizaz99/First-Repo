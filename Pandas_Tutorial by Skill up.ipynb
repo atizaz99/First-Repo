{
 "cells": [
  {
   "cell_type": "markdown",
   "id": "562ba075",
   "metadata": {},
   "source": [
    "# Pandas\n",
    "## 1 What is Pandas?\n",
    "## 2 Series\n",
    "## 3 Basic Operations on Series\n",
    "## 4 Dataframe \n",
    "## 5 Basic operations on dataframe\n",
    "## 6 File related operations on dataframe\n",
    "## 7 Visualizatoin\n",
    "## 8 Practice Example"
   ]
  },
  {
   "cell_type": "markdown",
   "id": "0d007667",
   "metadata": {},
   "source": [
    "# pandas\n",
    "Pandas is a tool for data processing which helps in data analysis\n",
    "It provides functions and methods to efficently manipulate large data sets.\n",
    "# Data structures in Pandas\n",
    "Series (one-dimensional array)\n",
    "DataFrame(two-dimensional array)\n",
    "# series \n",
    "It is a one-dimensional array with labels. It can contain\n",
    "any data type including integers, strings, float, Python objects and more.\n",
    "# DataFrame:\n",
    "It is a two-dimensional data structure with labels. We can use labels to locate data.\n"
   ]
  },
  {
   "cell_type": "code",
   "execution_count": 2,
   "id": "a19b6f0c",
   "metadata": {},
   "outputs": [],
   "source": [
    "import pandas as pd"
   ]
  },
  {
   "cell_type": "code",
   "execution_count": 3,
   "id": "f05b8309",
   "metadata": {},
   "outputs": [
    {
     "name": "stdout",
     "output_type": "stream",
     "text": [
      "1.4.4\n"
     ]
    }
   ],
   "source": [
    "print(pd.__version__)"
   ]
  },
  {
   "cell_type": "markdown",
   "id": "55fad4c0",
   "metadata": {},
   "source": [
    "## Series"
   ]
  },
  {
   "cell_type": "markdown",
   "id": "38f74795",
   "metadata": {},
   "source": [
    "# series create, manuplate, querry, delete\n",
    "\n"
   ]
  },
  {
   "cell_type": "code",
   "execution_count": 4,
   "id": "d6151288",
   "metadata": {},
   "outputs": [
    {
     "data": {
      "text/plain": [
       "0    1\n",
       "1    3\n",
       "2    4\n",
       "3    5\n",
       "4    6\n",
       "dtype: int64"
      ]
     },
     "execution_count": 4,
     "metadata": {},
     "output_type": "execute_result"
    }
   ],
   "source": [
    "# creating a series\n",
    "arr = [1, 3, 4, 5, 6]\n",
    "s1 = pd.Series(arr)\n",
    "s1"
   ]
  },
  {
   "cell_type": "code",
   "execution_count": 5,
   "id": "f395d6ee",
   "metadata": {},
   "outputs": [
    {
     "data": {
      "text/plain": [
       "a    1\n",
       "b    3\n",
       "c    4\n",
       "d    5\n",
       "e    6\n",
       "dtype: int64"
      ]
     },
     "execution_count": 5,
     "metadata": {},
     "output_type": "execute_result"
    }
   ],
   "source": [
    "order = ['a', 'b', 'c', 'd', 'e']\n",
    "s2 = pd.Series(arr, index = order)\n",
    "s2"
   ]
  },
  {
   "cell_type": "code",
   "execution_count": 6,
   "id": "57ecf563",
   "metadata": {},
   "outputs": [
    {
     "data": {
      "text/plain": [
       "array([ 0.64908667, -0.68879713,  0.45604702, -0.9241774 , -1.2353504 ])"
      ]
     },
     "execution_count": 6,
     "metadata": {},
     "output_type": "execute_result"
    }
   ],
   "source": [
    "#create a random  nd arry\n",
    "import numpy as np\n",
    "n = np.random.randn(5)\n",
    "n"
   ]
  },
  {
   "cell_type": "code",
   "execution_count": 5,
   "id": "be3ec307",
   "metadata": {},
   "outputs": [
    {
     "data": {
      "text/plain": [
       "a     1.560084\n",
       "b     0.871711\n",
       "c     0.435283\n",
       "d     2.113427\n",
       "e    -0.204755\n",
       "dtype: float64"
      ]
     },
     "execution_count": 5,
     "metadata": {},
     "output_type": "execute_result"
    }
   ],
   "source": [
    "import numpy as np\n",
    "n = np.random.randn(5)\n",
    "index = ['a ', 'b', 'c', 'd', 'e']\n",
    "s3 = pd.Series(n, index = index)\n",
    "s3"
   ]
  },
  {
   "cell_type": "code",
   "execution_count": 8,
   "id": "bc7cb72f",
   "metadata": {},
   "outputs": [
    {
     "data": {
      "text/plain": [
       "a    1\n",
       "b    2\n",
       "c    3\n",
       "d    4\n",
       "e    5\n",
       "dtype: int64"
      ]
     },
     "execution_count": 8,
     "metadata": {},
     "output_type": "execute_result"
    }
   ],
   "source": [
    "# creating series from dictionary \n",
    "d = {\"a\":1, \"b\":2, \"c\":3, \"d\":4, \"e\":5}\n",
    "s4 = pd.Series(d)\n",
    "s4"
   ]
  },
  {
   "cell_type": "code",
   "execution_count": 9,
   "id": "38ad400f",
   "metadata": {},
   "outputs": [
    {
     "data": {
      "text/plain": [
       "q    1\n",
       "w    3\n",
       "e    4\n",
       "r    5\n",
       "t    6\n",
       "dtype: int64"
      ]
     },
     "execution_count": 9,
     "metadata": {},
     "output_type": "execute_result"
    }
   ],
   "source": [
    "# modifying the index of series\n",
    "s1\n",
    "s1.index = ['q', 'w', 'e', 'r', 't']\n",
    "s1"
   ]
  },
  {
   "cell_type": "code",
   "execution_count": 10,
   "id": "d74a6348",
   "metadata": {},
   "outputs": [
    {
     "data": {
      "text/plain": [
       "q    1\n",
       "w    3\n",
       "e    4\n",
       "dtype: int64"
      ]
     },
     "execution_count": 10,
     "metadata": {},
     "output_type": "execute_result"
    }
   ],
   "source": [
    "# silicing in series\n",
    "s1[:3]"
   ]
  },
  {
   "cell_type": "code",
   "execution_count": 11,
   "id": "7fff48b7",
   "metadata": {},
   "outputs": [
    {
     "data": {
      "text/plain": [
       "q    1\n",
       "w    3\n",
       "e    4\n",
       "dtype: int64"
      ]
     },
     "execution_count": 11,
     "metadata": {},
     "output_type": "execute_result"
    }
   ],
   "source": [
    "s1[:-2]"
   ]
  },
  {
   "cell_type": "code",
   "execution_count": 12,
   "id": "a04ff4a9",
   "metadata": {},
   "outputs": [
    {
     "data": {
      "text/plain": [
       "e    4\n",
       "r    5\n",
       "t    6\n",
       "dtype: int64"
      ]
     },
     "execution_count": 12,
     "metadata": {},
     "output_type": "execute_result"
    }
   ],
   "source": [
    "s1[2:]"
   ]
  },
  {
   "cell_type": "code",
   "execution_count": 13,
   "id": "48c6a7dc",
   "metadata": {},
   "outputs": [
    {
     "name": "stderr",
     "output_type": "stream",
     "text": [
      "C:\\Users\\Atizaz Hussain\\AppData\\Local\\Temp\\ipykernel_7180\\1715993936.py:2: FutureWarning: The series.append method is deprecated and will be removed from pandas in a future version. Use pandas.concat instead.\n",
      "  s5 = s1.append(s3)\n"
     ]
    },
    {
     "data": {
      "text/plain": [
       "q     1.000000\n",
       "w     3.000000\n",
       "e     4.000000\n",
       "r     5.000000\n",
       "t     6.000000\n",
       "a    -0.226834\n",
       "b     0.865650\n",
       "c     1.048255\n",
       "d    -0.395806\n",
       "e    -1.697937\n",
       "dtype: float64"
      ]
     },
     "execution_count": 13,
     "metadata": {},
     "output_type": "execute_result"
    }
   ],
   "source": [
    "#apend\n",
    "s5 = s1.append(s3)\n",
    "s5"
   ]
  },
  {
   "cell_type": "code",
   "execution_count": 14,
   "id": "9886c3f0",
   "metadata": {},
   "outputs": [
    {
     "data": {
      "text/plain": [
       "q     1.000000\n",
       "w     3.000000\n",
       "r     5.000000\n",
       "t     6.000000\n",
       "a    -0.226834\n",
       "b     0.865650\n",
       "c     1.048255\n",
       "d    -0.395806\n",
       "dtype: float64"
      ]
     },
     "execution_count": 14,
     "metadata": {},
     "output_type": "execute_result"
    }
   ],
   "source": [
    "s5.drop('e')"
   ]
  },
  {
   "cell_type": "markdown",
   "id": "f5ebe847",
   "metadata": {},
   "source": [
    "# Series Operation"
   ]
  },
  {
   "cell_type": "code",
   "execution_count": 15,
   "id": "598b57f1",
   "metadata": {},
   "outputs": [],
   "source": [
    "arr1 = [0, 1,2, 3, 4, 5 ]\n",
    "arr2 = [6, 7, 8, 9,10]\n"
   ]
  },
  {
   "cell_type": "code",
   "execution_count": 16,
   "id": "80596baf",
   "metadata": {},
   "outputs": [
    {
     "data": {
      "text/plain": [
       "0    0\n",
       "1    1\n",
       "2    2\n",
       "3    3\n",
       "4    4\n",
       "5    5\n",
       "dtype: int64"
      ]
     },
     "execution_count": 16,
     "metadata": {},
     "output_type": "execute_result"
    }
   ],
   "source": [
    "s7 = pd.Series(arr1)\n",
    "s7"
   ]
  },
  {
   "cell_type": "code",
   "execution_count": 17,
   "id": "574c9c24",
   "metadata": {},
   "outputs": [
    {
     "data": {
      "text/plain": [
       "0     6\n",
       "1     7\n",
       "2     8\n",
       "3     9\n",
       "4    10\n",
       "dtype: int64"
      ]
     },
     "execution_count": 17,
     "metadata": {},
     "output_type": "execute_result"
    }
   ],
   "source": [
    "s6 = pd.Series(arr2)\n",
    "s6"
   ]
  },
  {
   "cell_type": "code",
   "execution_count": 18,
   "id": "20e182e5",
   "metadata": {},
   "outputs": [
    {
     "data": {
      "text/plain": [
       "0     6.0\n",
       "1     8.0\n",
       "2    10.0\n",
       "3    12.0\n",
       "4    14.0\n",
       "5     NaN\n",
       "dtype: float64"
      ]
     },
     "execution_count": 18,
     "metadata": {},
     "output_type": "execute_result"
    }
   ],
   "source": [
    "s7.add(s6)# addition series"
   ]
  },
  {
   "cell_type": "code",
   "execution_count": 19,
   "id": "6245353d",
   "metadata": {},
   "outputs": [
    {
     "data": {
      "text/plain": [
       "0   -6.0\n",
       "1   -6.0\n",
       "2   -6.0\n",
       "3   -6.0\n",
       "4   -6.0\n",
       "5    NaN\n",
       "dtype: float64"
      ]
     },
     "execution_count": 19,
     "metadata": {},
     "output_type": "execute_result"
    }
   ],
   "source": [
    "s7.sub(s6)"
   ]
  },
  {
   "cell_type": "code",
   "execution_count": 20,
   "id": "2cb233ad",
   "metadata": {},
   "outputs": [
    {
     "data": {
      "text/plain": [
       "0     0.0\n",
       "1     7.0\n",
       "2    16.0\n",
       "3    27.0\n",
       "4    40.0\n",
       "5     NaN\n",
       "dtype: float64"
      ]
     },
     "execution_count": 20,
     "metadata": {},
     "output_type": "execute_result"
    }
   ],
   "source": [
    "s7.mul(s6)"
   ]
  },
  {
   "cell_type": "code",
   "execution_count": 21,
   "id": "9be58a1f",
   "metadata": {},
   "outputs": [
    {
     "data": {
      "text/plain": [
       "0    0.000000\n",
       "1    0.142857\n",
       "2    0.250000\n",
       "3    0.333333\n",
       "4    0.400000\n",
       "5         NaN\n",
       "dtype: float64"
      ]
     },
     "execution_count": 21,
     "metadata": {},
     "output_type": "execute_result"
    }
   ],
   "source": [
    "s7.div(s6)"
   ]
  },
  {
   "cell_type": "code",
   "execution_count": 22,
   "id": "bde2e0b0",
   "metadata": {},
   "outputs": [
    {
     "data": {
      "text/plain": [
       "8.0"
      ]
     },
     "execution_count": 22,
     "metadata": {},
     "output_type": "execute_result"
    }
   ],
   "source": [
    "s6.median()"
   ]
  },
  {
   "cell_type": "code",
   "execution_count": 23,
   "id": "a3f7589a",
   "metadata": {},
   "outputs": [
    {
     "data": {
      "text/plain": [
       "0     6\n",
       "1     7\n",
       "2     8\n",
       "3     9\n",
       "4    10\n",
       "dtype: int64"
      ]
     },
     "execution_count": 23,
     "metadata": {},
     "output_type": "execute_result"
    }
   ],
   "source": [
    "s6.mode()"
   ]
  },
  {
   "cell_type": "code",
   "execution_count": 24,
   "id": "64c1beed",
   "metadata": {},
   "outputs": [
    {
     "data": {
      "text/plain": [
       "8.0"
      ]
     },
     "execution_count": 24,
     "metadata": {},
     "output_type": "execute_result"
    }
   ],
   "source": [
    "s6.mean()"
   ]
  },
  {
   "cell_type": "code",
   "execution_count": 25,
   "id": "02c589d3",
   "metadata": {},
   "outputs": [
    {
     "data": {
      "text/plain": [
       "5"
      ]
     },
     "execution_count": 25,
     "metadata": {},
     "output_type": "execute_result"
    }
   ],
   "source": [
    "s7.max()"
   ]
  },
  {
   "cell_type": "code",
   "execution_count": 26,
   "id": "67672c27",
   "metadata": {},
   "outputs": [
    {
     "data": {
      "text/plain": [
       "0"
      ]
     },
     "execution_count": 26,
     "metadata": {},
     "output_type": "execute_result"
    }
   ],
   "source": [
    "s7.min()"
   ]
  },
  {
   "cell_type": "markdown",
   "id": "6f20a5ad",
   "metadata": {},
   "source": [
    "# DataFrame"
   ]
  },
  {
   "cell_type": "code",
   "execution_count": 27,
   "id": "1f3bee17",
   "metadata": {},
   "outputs": [
    {
     "name": "stdout",
     "output_type": "stream",
     "text": [
      "numpy imported \n"
     ]
    }
   ],
   "source": [
    "import numpy as np\n",
    "print('numpy imported ')"
   ]
  },
  {
   "cell_type": "code",
   "execution_count": 3,
   "id": "d1372782",
   "metadata": {},
   "outputs": [
    {
     "data": {
      "text/plain": [
       "DatetimeIndex(['2024-02-26 19:18:25.211952', '2024-02-27 19:18:25.211952',\n",
       "               '2024-02-28 19:18:25.211952', '2024-02-29 19:18:25.211952',\n",
       "               '2024-03-01 19:18:25.211952', '2024-03-02 19:18:25.211952'],\n",
       "              dtype='datetime64[ns]', freq='D')"
      ]
     },
     "execution_count": 3,
     "metadata": {},
     "output_type": "execute_result"
    }
   ],
   "source": [
    "#create dataframe\n",
    "date = pd.date_range('today', periods = 6)\n",
    "date"
   ]
  },
  {
   "cell_type": "code",
   "execution_count": 6,
   "id": "e5667496",
   "metadata": {},
   "outputs": [],
   "source": [
    "num = np.random.randn(6,6)\n",
    "columns = ['a', 'b', 'c', 'd', 'e', 'f']"
   ]
  },
  {
   "cell_type": "code",
   "execution_count": 30,
   "id": "451847a9",
   "metadata": {},
   "outputs": [
    {
     "data": {
      "text/html": [
       "<div>\n",
       "<style scoped>\n",
       "    .dataframe tbody tr th:only-of-type {\n",
       "        vertical-align: middle;\n",
       "    }\n",
       "\n",
       "    .dataframe tbody tr th {\n",
       "        vertical-align: top;\n",
       "    }\n",
       "\n",
       "    .dataframe thead th {\n",
       "        text-align: right;\n",
       "    }\n",
       "</style>\n",
       "<table border=\"1\" class=\"dataframe\">\n",
       "  <thead>\n",
       "    <tr style=\"text-align: right;\">\n",
       "      <th></th>\n",
       "      <th>a</th>\n",
       "      <th>b</th>\n",
       "      <th>c</th>\n",
       "      <th>d</th>\n",
       "      <th>e</th>\n",
       "      <th>f</th>\n",
       "    </tr>\n",
       "  </thead>\n",
       "  <tbody>\n",
       "    <tr>\n",
       "      <th>2023-03-03 09:52:10.119420</th>\n",
       "      <td>1.066789</td>\n",
       "      <td>0.777129</td>\n",
       "      <td>-0.724006</td>\n",
       "      <td>-1.320635</td>\n",
       "      <td>-0.726429</td>\n",
       "      <td>-0.106387</td>\n",
       "    </tr>\n",
       "    <tr>\n",
       "      <th>2023-03-04 09:52:10.119420</th>\n",
       "      <td>-0.758190</td>\n",
       "      <td>0.637647</td>\n",
       "      <td>-1.910035</td>\n",
       "      <td>-0.305003</td>\n",
       "      <td>0.318743</td>\n",
       "      <td>-1.948873</td>\n",
       "    </tr>\n",
       "    <tr>\n",
       "      <th>2023-03-05 09:52:10.119420</th>\n",
       "      <td>-1.345016</td>\n",
       "      <td>-1.309100</td>\n",
       "      <td>1.157212</td>\n",
       "      <td>1.820633</td>\n",
       "      <td>-1.522375</td>\n",
       "      <td>0.779800</td>\n",
       "    </tr>\n",
       "    <tr>\n",
       "      <th>2023-03-06 09:52:10.119420</th>\n",
       "      <td>-0.313580</td>\n",
       "      <td>-2.184856</td>\n",
       "      <td>1.746291</td>\n",
       "      <td>1.865490</td>\n",
       "      <td>0.398171</td>\n",
       "      <td>0.165561</td>\n",
       "    </tr>\n",
       "    <tr>\n",
       "      <th>2023-03-07 09:52:10.119420</th>\n",
       "      <td>1.127765</td>\n",
       "      <td>-0.773036</td>\n",
       "      <td>-0.404373</td>\n",
       "      <td>-1.101184</td>\n",
       "      <td>1.275426</td>\n",
       "      <td>0.049935</td>\n",
       "    </tr>\n",
       "    <tr>\n",
       "      <th>2023-03-08 09:52:10.119420</th>\n",
       "      <td>-0.936392</td>\n",
       "      <td>-0.428431</td>\n",
       "      <td>-0.995406</td>\n",
       "      <td>-1.777452</td>\n",
       "      <td>-0.823507</td>\n",
       "      <td>-0.583913</td>\n",
       "    </tr>\n",
       "  </tbody>\n",
       "</table>\n",
       "</div>"
      ],
      "text/plain": [
       "                                   a         b         c         d         e  \\\n",
       "2023-03-03 09:52:10.119420  1.066789  0.777129 -0.724006 -1.320635 -0.726429   \n",
       "2023-03-04 09:52:10.119420 -0.758190  0.637647 -1.910035 -0.305003  0.318743   \n",
       "2023-03-05 09:52:10.119420 -1.345016 -1.309100  1.157212  1.820633 -1.522375   \n",
       "2023-03-06 09:52:10.119420 -0.313580 -2.184856  1.746291  1.865490  0.398171   \n",
       "2023-03-07 09:52:10.119420  1.127765 -0.773036 -0.404373 -1.101184  1.275426   \n",
       "2023-03-08 09:52:10.119420 -0.936392 -0.428431 -0.995406 -1.777452 -0.823507   \n",
       "\n",
       "                                   f  \n",
       "2023-03-03 09:52:10.119420 -0.106387  \n",
       "2023-03-04 09:52:10.119420 -1.948873  \n",
       "2023-03-05 09:52:10.119420  0.779800  \n",
       "2023-03-06 09:52:10.119420  0.165561  \n",
       "2023-03-07 09:52:10.119420  0.049935  \n",
       "2023-03-08 09:52:10.119420 -0.583913  "
      ]
     },
     "execution_count": 30,
     "metadata": {},
     "output_type": "execute_result"
    }
   ],
   "source": [
    "df = pd.DataFrame(num,index=date,columns=columns)\n",
    "df"
   ]
  },
  {
   "cell_type": "code",
   "execution_count": 31,
   "id": "b738d9b0",
   "metadata": {},
   "outputs": [],
   "source": [
    "data = {'animal':['cat', 'cow', 'dog'], 'Age':[2.5, 2.6, 1.8], \n",
    "        'visits' :[1, 2, 3], 'Priority':['yes', 'No', 'no']}\n"
   ]
  },
  {
   "cell_type": "code",
   "execution_count": 32,
   "id": "12642c90",
   "metadata": {
    "scrolled": true
   },
   "outputs": [
    {
     "data": {
      "text/html": [
       "<div>\n",
       "<style scoped>\n",
       "    .dataframe tbody tr th:only-of-type {\n",
       "        vertical-align: middle;\n",
       "    }\n",
       "\n",
       "    .dataframe tbody tr th {\n",
       "        vertical-align: top;\n",
       "    }\n",
       "\n",
       "    .dataframe thead th {\n",
       "        text-align: right;\n",
       "    }\n",
       "</style>\n",
       "<table border=\"1\" class=\"dataframe\">\n",
       "  <thead>\n",
       "    <tr style=\"text-align: right;\">\n",
       "      <th></th>\n",
       "      <th>animal</th>\n",
       "      <th>Age</th>\n",
       "      <th>visits</th>\n",
       "      <th>Priority</th>\n",
       "    </tr>\n",
       "  </thead>\n",
       "  <tbody>\n",
       "    <tr>\n",
       "      <th>0</th>\n",
       "      <td>cat</td>\n",
       "      <td>2.5</td>\n",
       "      <td>1</td>\n",
       "      <td>yes</td>\n",
       "    </tr>\n",
       "    <tr>\n",
       "      <th>1</th>\n",
       "      <td>cow</td>\n",
       "      <td>2.6</td>\n",
       "      <td>2</td>\n",
       "      <td>No</td>\n",
       "    </tr>\n",
       "    <tr>\n",
       "      <th>2</th>\n",
       "      <td>dog</td>\n",
       "      <td>1.8</td>\n",
       "      <td>3</td>\n",
       "      <td>no</td>\n",
       "    </tr>\n",
       "  </tbody>\n",
       "</table>\n",
       "</div>"
      ],
      "text/plain": [
       "  animal  Age  visits Priority\n",
       "0    cat  2.5       1      yes\n",
       "1    cow  2.6       2       No\n",
       "2    dog  1.8       3       no"
      ]
     },
     "execution_count": 32,
     "metadata": {},
     "output_type": "execute_result"
    }
   ],
   "source": [
    "df1 = pd.DataFrame(data)\n",
    "df1"
   ]
  },
  {
   "cell_type": "code",
   "execution_count": 33,
   "id": "24b8be31",
   "metadata": {},
   "outputs": [
    {
     "data": {
      "text/plain": [
       "Index(['animal', 'Age', 'visits', 'Priority'], dtype='object')"
      ]
     },
     "execution_count": 33,
     "metadata": {},
     "output_type": "execute_result"
    }
   ],
   "source": [
    "df1.columns"
   ]
  },
  {
   "cell_type": "code",
   "execution_count": 34,
   "id": "f4ebe04e",
   "metadata": {},
   "outputs": [
    {
     "data": {
      "text/html": [
       "<div>\n",
       "<style scoped>\n",
       "    .dataframe tbody tr th:only-of-type {\n",
       "        vertical-align: middle;\n",
       "    }\n",
       "\n",
       "    .dataframe tbody tr th {\n",
       "        vertical-align: top;\n",
       "    }\n",
       "\n",
       "    .dataframe thead th {\n",
       "        text-align: right;\n",
       "    }\n",
       "</style>\n",
       "<table border=\"1\" class=\"dataframe\">\n",
       "  <thead>\n",
       "    <tr style=\"text-align: right;\">\n",
       "      <th></th>\n",
       "      <th>0</th>\n",
       "      <th>1</th>\n",
       "      <th>2</th>\n",
       "    </tr>\n",
       "  </thead>\n",
       "  <tbody>\n",
       "    <tr>\n",
       "      <th>animal</th>\n",
       "      <td>cat</td>\n",
       "      <td>cow</td>\n",
       "      <td>dog</td>\n",
       "    </tr>\n",
       "    <tr>\n",
       "      <th>Age</th>\n",
       "      <td>2.5</td>\n",
       "      <td>2.6</td>\n",
       "      <td>1.8</td>\n",
       "    </tr>\n",
       "    <tr>\n",
       "      <th>visits</th>\n",
       "      <td>1</td>\n",
       "      <td>2</td>\n",
       "      <td>3</td>\n",
       "    </tr>\n",
       "    <tr>\n",
       "      <th>Priority</th>\n",
       "      <td>yes</td>\n",
       "      <td>No</td>\n",
       "      <td>no</td>\n",
       "    </tr>\n",
       "  </tbody>\n",
       "</table>\n",
       "</div>"
      ],
      "text/plain": [
       "            0    1    2\n",
       "animal    cat  cow  dog\n",
       "Age       2.5  2.6  1.8\n",
       "visits      1    2    3\n",
       "Priority  yes   No   no"
      ]
     },
     "execution_count": 34,
     "metadata": {},
     "output_type": "execute_result"
    }
   ],
   "source": [
    "df1.T"
   ]
  },
  {
   "cell_type": "code",
   "execution_count": 37,
   "id": "21c71f99",
   "metadata": {
    "scrolled": true
   },
   "outputs": [
    {
     "data": {
      "text/html": [
       "<div>\n",
       "<style scoped>\n",
       "    .dataframe tbody tr th:only-of-type {\n",
       "        vertical-align: middle;\n",
       "    }\n",
       "\n",
       "    .dataframe tbody tr th {\n",
       "        vertical-align: top;\n",
       "    }\n",
       "\n",
       "    .dataframe thead th {\n",
       "        text-align: right;\n",
       "    }\n",
       "</style>\n",
       "<table border=\"1\" class=\"dataframe\">\n",
       "  <thead>\n",
       "    <tr style=\"text-align: right;\">\n",
       "      <th></th>\n",
       "      <th>animal</th>\n",
       "      <th>Age</th>\n",
       "      <th>visits</th>\n",
       "      <th>Priority</th>\n",
       "    </tr>\n",
       "  </thead>\n",
       "  <tbody>\n",
       "    <tr>\n",
       "      <th>2</th>\n",
       "      <td>dog</td>\n",
       "      <td>1.8</td>\n",
       "      <td>3</td>\n",
       "      <td>no</td>\n",
       "    </tr>\n",
       "    <tr>\n",
       "      <th>0</th>\n",
       "      <td>cat</td>\n",
       "      <td>2.5</td>\n",
       "      <td>1</td>\n",
       "      <td>yes</td>\n",
       "    </tr>\n",
       "    <tr>\n",
       "      <th>1</th>\n",
       "      <td>cow</td>\n",
       "      <td>2.6</td>\n",
       "      <td>2</td>\n",
       "      <td>No</td>\n",
       "    </tr>\n",
       "  </tbody>\n",
       "</table>\n",
       "</div>"
      ],
      "text/plain": [
       "  animal  Age  visits Priority\n",
       "2    dog  1.8       3       no\n",
       "0    cat  2.5       1      yes\n",
       "1    cow  2.6       2       No"
      ]
     },
     "execution_count": 37,
     "metadata": {},
     "output_type": "execute_result"
    }
   ],
   "source": [
    "df1.sort_values(by='Age')"
   ]
  },
  {
   "cell_type": "code",
   "execution_count": 38,
   "id": "72da60a7",
   "metadata": {},
   "outputs": [
    {
     "data": {
      "text/html": [
       "<div>\n",
       "<style scoped>\n",
       "    .dataframe tbody tr th:only-of-type {\n",
       "        vertical-align: middle;\n",
       "    }\n",
       "\n",
       "    .dataframe tbody tr th {\n",
       "        vertical-align: top;\n",
       "    }\n",
       "\n",
       "    .dataframe thead th {\n",
       "        text-align: right;\n",
       "    }\n",
       "</style>\n",
       "<table border=\"1\" class=\"dataframe\">\n",
       "  <thead>\n",
       "    <tr style=\"text-align: right;\">\n",
       "      <th></th>\n",
       "      <th>animal</th>\n",
       "      <th>Age</th>\n",
       "      <th>visits</th>\n",
       "      <th>Priority</th>\n",
       "    </tr>\n",
       "  </thead>\n",
       "  <tbody>\n",
       "    <tr>\n",
       "      <th>1</th>\n",
       "      <td>cow</td>\n",
       "      <td>2.6</td>\n",
       "      <td>2</td>\n",
       "      <td>No</td>\n",
       "    </tr>\n",
       "    <tr>\n",
       "      <th>2</th>\n",
       "      <td>dog</td>\n",
       "      <td>1.8</td>\n",
       "      <td>3</td>\n",
       "      <td>no</td>\n",
       "    </tr>\n",
       "  </tbody>\n",
       "</table>\n",
       "</div>"
      ],
      "text/plain": [
       "  animal  Age  visits Priority\n",
       "1    cow  2.6       2       No\n",
       "2    dog  1.8       3       no"
      ]
     },
     "execution_count": 38,
     "metadata": {},
     "output_type": "execute_result"
    }
   ],
   "source": [
    "# slicing the dataframe\n",
    "df1[1:3]"
   ]
  },
  {
   "cell_type": "code",
   "execution_count": 40,
   "id": "41a8dce6",
   "metadata": {},
   "outputs": [
    {
     "data": {
      "text/html": [
       "<div>\n",
       "<style scoped>\n",
       "    .dataframe tbody tr th:only-of-type {\n",
       "        vertical-align: middle;\n",
       "    }\n",
       "\n",
       "    .dataframe tbody tr th {\n",
       "        vertical-align: top;\n",
       "    }\n",
       "\n",
       "    .dataframe thead th {\n",
       "        text-align: right;\n",
       "    }\n",
       "</style>\n",
       "<table border=\"1\" class=\"dataframe\">\n",
       "  <thead>\n",
       "    <tr style=\"text-align: right;\">\n",
       "      <th></th>\n",
       "      <th>Age</th>\n",
       "      <th>visits</th>\n",
       "    </tr>\n",
       "  </thead>\n",
       "  <tbody>\n",
       "    <tr>\n",
       "      <th>0</th>\n",
       "      <td>2.5</td>\n",
       "      <td>1</td>\n",
       "    </tr>\n",
       "    <tr>\n",
       "      <th>1</th>\n",
       "      <td>2.6</td>\n",
       "      <td>2</td>\n",
       "    </tr>\n",
       "    <tr>\n",
       "      <th>2</th>\n",
       "      <td>1.8</td>\n",
       "      <td>3</td>\n",
       "    </tr>\n",
       "  </tbody>\n",
       "</table>\n",
       "</div>"
      ],
      "text/plain": [
       "   Age  visits\n",
       "0  2.5       1\n",
       "1  2.6       2\n",
       "2  1.8       3"
      ]
     },
     "execution_count": 40,
     "metadata": {},
     "output_type": "execute_result"
    }
   ],
   "source": [
    "# query dataframe by tag\n",
    "df1[['Age', 'visits'\n",
    "   ]]"
   ]
  },
  {
   "cell_type": "code",
   "execution_count": 41,
   "id": "7a198fb3",
   "metadata": {},
   "outputs": [
    {
     "data": {
      "text/html": [
       "<div>\n",
       "<style scoped>\n",
       "    .dataframe tbody tr th:only-of-type {\n",
       "        vertical-align: middle;\n",
       "    }\n",
       "\n",
       "    .dataframe tbody tr th {\n",
       "        vertical-align: top;\n",
       "    }\n",
       "\n",
       "    .dataframe thead th {\n",
       "        text-align: right;\n",
       "    }\n",
       "</style>\n",
       "<table border=\"1\" class=\"dataframe\">\n",
       "  <thead>\n",
       "    <tr style=\"text-align: right;\">\n",
       "      <th></th>\n",
       "      <th>animal</th>\n",
       "      <th>Age</th>\n",
       "      <th>visits</th>\n",
       "      <th>Priority</th>\n",
       "    </tr>\n",
       "  </thead>\n",
       "  <tbody>\n",
       "    <tr>\n",
       "      <th>1</th>\n",
       "      <td>cow</td>\n",
       "      <td>2.6</td>\n",
       "      <td>2</td>\n",
       "      <td>No</td>\n",
       "    </tr>\n",
       "    <tr>\n",
       "      <th>2</th>\n",
       "      <td>dog</td>\n",
       "      <td>1.8</td>\n",
       "      <td>3</td>\n",
       "      <td>no</td>\n",
       "    </tr>\n",
       "  </tbody>\n",
       "</table>\n",
       "</div>"
      ],
      "text/plain": [
       "  animal  Age  visits Priority\n",
       "1    cow  2.6       2       No\n",
       "2    dog  1.8       3       no"
      ]
     },
     "execution_count": 41,
     "metadata": {},
     "output_type": "execute_result"
    }
   ],
   "source": [
    "df1.iloc[1:3] # query rows 2, 3"
   ]
  },
  {
   "cell_type": "code",
   "execution_count": 43,
   "id": "4f5fc019",
   "metadata": {},
   "outputs": [
    {
     "data": {
      "text/html": [
       "<div>\n",
       "<style scoped>\n",
       "    .dataframe tbody tr th:only-of-type {\n",
       "        vertical-align: middle;\n",
       "    }\n",
       "\n",
       "    .dataframe tbody tr th {\n",
       "        vertical-align: top;\n",
       "    }\n",
       "\n",
       "    .dataframe thead th {\n",
       "        text-align: right;\n",
       "    }\n",
       "</style>\n",
       "<table border=\"1\" class=\"dataframe\">\n",
       "  <thead>\n",
       "    <tr style=\"text-align: right;\">\n",
       "      <th></th>\n",
       "      <th>animal</th>\n",
       "      <th>Age</th>\n",
       "      <th>visits</th>\n",
       "      <th>Priority</th>\n",
       "    </tr>\n",
       "  </thead>\n",
       "  <tbody>\n",
       "    <tr>\n",
       "      <th>0</th>\n",
       "      <td>cat</td>\n",
       "      <td>2.5</td>\n",
       "      <td>1</td>\n",
       "      <td>yes</td>\n",
       "    </tr>\n",
       "    <tr>\n",
       "      <th>1</th>\n",
       "      <td>cow</td>\n",
       "      <td>2.6</td>\n",
       "      <td>2</td>\n",
       "      <td>No</td>\n",
       "    </tr>\n",
       "    <tr>\n",
       "      <th>2</th>\n",
       "      <td>dog</td>\n",
       "      <td>1.8</td>\n",
       "      <td>3</td>\n",
       "      <td>no</td>\n",
       "    </tr>\n",
       "  </tbody>\n",
       "</table>\n",
       "</div>"
      ],
      "text/plain": [
       "  animal  Age  visits Priority\n",
       "0    cat  2.5       1      yes\n",
       "1    cow  2.6       2       No\n",
       "2    dog  1.8       3       no"
      ]
     },
     "execution_count": 43,
     "metadata": {},
     "output_type": "execute_result"
    }
   ],
   "source": [
    "df2 = df1.copy()\n",
    "df2"
   ]
  },
  {
   "cell_type": "code",
   "execution_count": 44,
   "id": "f472bee1",
   "metadata": {},
   "outputs": [
    {
     "data": {
      "text/html": [
       "<div>\n",
       "<style scoped>\n",
       "    .dataframe tbody tr th:only-of-type {\n",
       "        vertical-align: middle;\n",
       "    }\n",
       "\n",
       "    .dataframe tbody tr th {\n",
       "        vertical-align: top;\n",
       "    }\n",
       "\n",
       "    .dataframe thead th {\n",
       "        text-align: right;\n",
       "    }\n",
       "</style>\n",
       "<table border=\"1\" class=\"dataframe\">\n",
       "  <thead>\n",
       "    <tr style=\"text-align: right;\">\n",
       "      <th></th>\n",
       "      <th>animal</th>\n",
       "      <th>Age</th>\n",
       "      <th>visits</th>\n",
       "      <th>Priority</th>\n",
       "    </tr>\n",
       "  </thead>\n",
       "  <tbody>\n",
       "    <tr>\n",
       "      <th>0</th>\n",
       "      <td>False</td>\n",
       "      <td>False</td>\n",
       "      <td>False</td>\n",
       "      <td>False</td>\n",
       "    </tr>\n",
       "    <tr>\n",
       "      <th>1</th>\n",
       "      <td>False</td>\n",
       "      <td>False</td>\n",
       "      <td>False</td>\n",
       "      <td>False</td>\n",
       "    </tr>\n",
       "    <tr>\n",
       "      <th>2</th>\n",
       "      <td>False</td>\n",
       "      <td>False</td>\n",
       "      <td>False</td>\n",
       "      <td>False</td>\n",
       "    </tr>\n",
       "  </tbody>\n",
       "</table>\n",
       "</div>"
      ],
      "text/plain": [
       "   animal    Age  visits  Priority\n",
       "0   False  False   False     False\n",
       "1   False  False   False     False\n",
       "2   False  False   False     False"
      ]
     },
     "execution_count": 44,
     "metadata": {},
     "output_type": "execute_result"
    }
   ],
   "source": [
    "df2.isnull() # use to check the null value"
   ]
  },
  {
   "cell_type": "code",
   "execution_count": 47,
   "id": "a09ea1e4",
   "metadata": {},
   "outputs": [
    {
     "data": {
      "text/html": [
       "<div>\n",
       "<style scoped>\n",
       "    .dataframe tbody tr th:only-of-type {\n",
       "        vertical-align: middle;\n",
       "    }\n",
       "\n",
       "    .dataframe tbody tr th {\n",
       "        vertical-align: top;\n",
       "    }\n",
       "\n",
       "    .dataframe thead th {\n",
       "        text-align: right;\n",
       "    }\n",
       "</style>\n",
       "<table border=\"1\" class=\"dataframe\">\n",
       "  <thead>\n",
       "    <tr style=\"text-align: right;\">\n",
       "      <th></th>\n",
       "      <th>animal</th>\n",
       "      <th>Age</th>\n",
       "      <th>visits</th>\n",
       "      <th>Priority</th>\n",
       "    </tr>\n",
       "  </thead>\n",
       "  <tbody>\n",
       "    <tr>\n",
       "      <th>0</th>\n",
       "      <td>cat</td>\n",
       "      <td>2.5</td>\n",
       "      <td>1.0</td>\n",
       "      <td>yes</td>\n",
       "    </tr>\n",
       "    <tr>\n",
       "      <th>1</th>\n",
       "      <td>cow</td>\n",
       "      <td>2.6</td>\n",
       "      <td>2.0</td>\n",
       "      <td>No</td>\n",
       "    </tr>\n",
       "    <tr>\n",
       "      <th>2</th>\n",
       "      <td>dog</td>\n",
       "      <td>1.8</td>\n",
       "      <td>3.0</td>\n",
       "      <td>no</td>\n",
       "    </tr>\n",
       "    <tr>\n",
       "      <th>f</th>\n",
       "      <td>NaN</td>\n",
       "      <td>1.5</td>\n",
       "      <td>NaN</td>\n",
       "      <td>NaN</td>\n",
       "    </tr>\n",
       "  </tbody>\n",
       "</table>\n",
       "</div>"
      ],
      "text/plain": [
       "  animal  Age  visits Priority\n",
       "0    cat  2.5     1.0      yes\n",
       "1    cow  2.6     2.0       No\n",
       "2    dog  1.8     3.0       no\n",
       "f    NaN  1.5     NaN      NaN"
      ]
     },
     "execution_count": 47,
     "metadata": {},
     "output_type": "execute_result"
    }
   ],
   "source": [
    "df2.loc['f', 'Age'] = 1.5\n",
    "df2"
   ]
  },
  {
   "cell_type": "code",
   "execution_count": 48,
   "id": "14506826",
   "metadata": {},
   "outputs": [
    {
     "data": {
      "text/plain": [
       "Age    2.1\n",
       "dtype: float64"
      ]
     },
     "execution_count": 48,
     "metadata": {},
     "output_type": "execute_result"
    }
   ],
   "source": [
    "df2[['Age']].mean()"
   ]
  },
  {
   "cell_type": "code",
   "execution_count": 49,
   "id": "2a4157d6",
   "metadata": {},
   "outputs": [
    {
     "data": {
      "text/plain": [
       "6.0"
      ]
     },
     "execution_count": 49,
     "metadata": {},
     "output_type": "execute_result"
    }
   ],
   "source": [
    "df2['visits'].sum()"
   ]
  },
  {
   "cell_type": "code",
   "execution_count": 51,
   "id": "c7c9aaf8",
   "metadata": {},
   "outputs": [
    {
     "data": {
      "text/plain": [
       "0      A\n",
       "1      B\n",
       "2      D\n",
       "3    Aaa\n",
       "4    NaN\n",
       "5    CBA\n",
       "dtype: object"
      ]
     },
     "execution_count": 51,
     "metadata": {},
     "output_type": "execute_result"
    }
   ],
   "source": [
    "strn = pd.Series(['A', 'B', 'D', 'Aaa', np.nan, 'CBA'])\n",
    "strn"
   ]
  },
  {
   "cell_type": "code",
   "execution_count": 54,
   "id": "f452f498",
   "metadata": {},
   "outputs": [
    {
     "data": {
      "text/plain": [
       "0      a\n",
       "1      b\n",
       "2      d\n",
       "3    aaa\n",
       "4    NaN\n",
       "5    cba\n",
       "dtype: object"
      ]
     },
     "execution_count": 54,
     "metadata": {},
     "output_type": "execute_result"
    }
   ],
   "source": [
    "strn.str.lower()"
   ]
  },
  {
   "cell_type": "code",
   "execution_count": 55,
   "id": "3d5cbcaf",
   "metadata": {},
   "outputs": [
    {
     "data": {
      "text/plain": [
       "0      A\n",
       "1      B\n",
       "2      D\n",
       "3    AAA\n",
       "4    NaN\n",
       "5    CBA\n",
       "dtype: object"
      ]
     },
     "execution_count": 55,
     "metadata": {},
     "output_type": "execute_result"
    }
   ],
   "source": [
    "strn.str.upper()"
   ]
  },
  {
   "cell_type": "markdown",
   "id": "a1656dcd",
   "metadata": {},
   "source": [
    "# Operations for DataFrame Missing Values"
   ]
  },
  {
   "cell_type": "code",
   "execution_count": 57,
   "id": "c0fe528e",
   "metadata": {},
   "outputs": [
    {
     "data": {
      "text/html": [
       "<div>\n",
       "<style scoped>\n",
       "    .dataframe tbody tr th:only-of-type {\n",
       "        vertical-align: middle;\n",
       "    }\n",
       "\n",
       "    .dataframe tbody tr th {\n",
       "        vertical-align: top;\n",
       "    }\n",
       "\n",
       "    .dataframe thead th {\n",
       "        text-align: right;\n",
       "    }\n",
       "</style>\n",
       "<table border=\"1\" class=\"dataframe\">\n",
       "  <thead>\n",
       "    <tr style=\"text-align: right;\">\n",
       "      <th></th>\n",
       "      <th>animal</th>\n",
       "      <th>Age</th>\n",
       "      <th>visits</th>\n",
       "      <th>Priority</th>\n",
       "    </tr>\n",
       "  </thead>\n",
       "  <tbody>\n",
       "    <tr>\n",
       "      <th>0</th>\n",
       "      <td>cat</td>\n",
       "      <td>2.5</td>\n",
       "      <td>1.0</td>\n",
       "      <td>yes</td>\n",
       "    </tr>\n",
       "    <tr>\n",
       "      <th>1</th>\n",
       "      <td>cow</td>\n",
       "      <td>2.6</td>\n",
       "      <td>2.0</td>\n",
       "      <td>No</td>\n",
       "    </tr>\n",
       "    <tr>\n",
       "      <th>2</th>\n",
       "      <td>dog</td>\n",
       "      <td>1.8</td>\n",
       "      <td>3.0</td>\n",
       "      <td>no</td>\n",
       "    </tr>\n",
       "    <tr>\n",
       "      <th>f</th>\n",
       "      <td>NaN</td>\n",
       "      <td>1.5</td>\n",
       "      <td>NaN</td>\n",
       "      <td>NaN</td>\n",
       "    </tr>\n",
       "  </tbody>\n",
       "</table>\n",
       "</div>"
      ],
      "text/plain": [
       "  animal  Age  visits Priority\n",
       "0    cat  2.5     1.0      yes\n",
       "1    cow  2.6     2.0       No\n",
       "2    dog  1.8     3.0       no\n",
       "f    NaN  1.5     NaN      NaN"
      ]
     },
     "execution_count": 57,
     "metadata": {},
     "output_type": "execute_result"
    }
   ],
   "source": [
    "df4 = df2.copy()\n",
    "df4"
   ]
  },
  {
   "cell_type": "code",
   "execution_count": 59,
   "id": "4ae7416e",
   "metadata": {},
   "outputs": [
    {
     "data": {
      "text/html": [
       "<div>\n",
       "<style scoped>\n",
       "    .dataframe tbody tr th:only-of-type {\n",
       "        vertical-align: middle;\n",
       "    }\n",
       "\n",
       "    .dataframe tbody tr th {\n",
       "        vertical-align: top;\n",
       "    }\n",
       "\n",
       "    .dataframe thead th {\n",
       "        text-align: right;\n",
       "    }\n",
       "</style>\n",
       "<table border=\"1\" class=\"dataframe\">\n",
       "  <thead>\n",
       "    <tr style=\"text-align: right;\">\n",
       "      <th></th>\n",
       "      <th>animal</th>\n",
       "      <th>Age</th>\n",
       "      <th>visits</th>\n",
       "      <th>Priority</th>\n",
       "    </tr>\n",
       "  </thead>\n",
       "  <tbody>\n",
       "    <tr>\n",
       "      <th>0</th>\n",
       "      <td>cat</td>\n",
       "      <td>2.5</td>\n",
       "      <td>1.0</td>\n",
       "      <td>yes</td>\n",
       "    </tr>\n",
       "    <tr>\n",
       "      <th>1</th>\n",
       "      <td>cow</td>\n",
       "      <td>2.6</td>\n",
       "      <td>2.0</td>\n",
       "      <td>No</td>\n",
       "    </tr>\n",
       "    <tr>\n",
       "      <th>2</th>\n",
       "      <td>dog</td>\n",
       "      <td>1.8</td>\n",
       "      <td>3.0</td>\n",
       "      <td>no</td>\n",
       "    </tr>\n",
       "    <tr>\n",
       "      <th>f</th>\n",
       "      <td>4</td>\n",
       "      <td>1.5</td>\n",
       "      <td>4.0</td>\n",
       "      <td>4</td>\n",
       "    </tr>\n",
       "  </tbody>\n",
       "</table>\n",
       "</div>"
      ],
      "text/plain": [
       "  animal  Age  visits Priority\n",
       "0    cat  2.5     1.0      yes\n",
       "1    cow  2.6     2.0       No\n",
       "2    dog  1.8     3.0       no\n",
       "f      4  1.5     4.0        4"
      ]
     },
     "execution_count": 59,
     "metadata": {},
     "output_type": "execute_result"
    }
   ],
   "source": [
    "df4.fillna(4) # fill data in table "
   ]
  },
  {
   "cell_type": "code",
   "execution_count": 61,
   "id": "994b47dd",
   "metadata": {},
   "outputs": [
    {
     "data": {
      "text/html": [
       "<div>\n",
       "<style scoped>\n",
       "    .dataframe tbody tr th:only-of-type {\n",
       "        vertical-align: middle;\n",
       "    }\n",
       "\n",
       "    .dataframe tbody tr th {\n",
       "        vertical-align: top;\n",
       "    }\n",
       "\n",
       "    .dataframe thead th {\n",
       "        text-align: right;\n",
       "    }\n",
       "</style>\n",
       "<table border=\"1\" class=\"dataframe\">\n",
       "  <thead>\n",
       "    <tr style=\"text-align: right;\">\n",
       "      <th></th>\n",
       "      <th>animal</th>\n",
       "      <th>Age</th>\n",
       "      <th>visits</th>\n",
       "      <th>Priority</th>\n",
       "    </tr>\n",
       "  </thead>\n",
       "  <tbody>\n",
       "    <tr>\n",
       "      <th>0</th>\n",
       "      <td>cat</td>\n",
       "      <td>2.5</td>\n",
       "      <td>1.0</td>\n",
       "      <td>yes</td>\n",
       "    </tr>\n",
       "    <tr>\n",
       "      <th>1</th>\n",
       "      <td>cow</td>\n",
       "      <td>2.6</td>\n",
       "      <td>2.0</td>\n",
       "      <td>No</td>\n",
       "    </tr>\n",
       "    <tr>\n",
       "      <th>2</th>\n",
       "      <td>dog</td>\n",
       "      <td>1.8</td>\n",
       "      <td>3.0</td>\n",
       "      <td>no</td>\n",
       "    </tr>\n",
       "  </tbody>\n",
       "</table>\n",
       "</div>"
      ],
      "text/plain": [
       "  animal  Age  visits Priority\n",
       "0    cat  2.5     1.0      yes\n",
       "1    cow  2.6     2.0       No\n",
       "2    dog  1.8     3.0       no"
      ]
     },
     "execution_count": 61,
     "metadata": {},
     "output_type": "execute_result"
    }
   ],
   "source": [
    "df5 = df2.copy()\n",
    "df5.dropna(how='any')"
   ]
  },
  {
   "cell_type": "markdown",
   "id": "a57fdec0",
   "metadata": {},
   "source": [
    "# DataFrame file operations"
   ]
  },
  {
   "cell_type": "code",
   "execution_count": 63,
   "id": "9c2cf423",
   "metadata": {},
   "outputs": [],
   "source": [
    "df2.to_csv('animal.csv')"
   ]
  },
  {
   "cell_type": "code",
   "execution_count": 65,
   "id": "9e1b50e6",
   "metadata": {},
   "outputs": [
    {
     "data": {
      "text/html": [
       "<div>\n",
       "<style scoped>\n",
       "    .dataframe tbody tr th:only-of-type {\n",
       "        vertical-align: middle;\n",
       "    }\n",
       "\n",
       "    .dataframe tbody tr th {\n",
       "        vertical-align: top;\n",
       "    }\n",
       "\n",
       "    .dataframe thead th {\n",
       "        text-align: right;\n",
       "    }\n",
       "</style>\n",
       "<table border=\"1\" class=\"dataframe\">\n",
       "  <thead>\n",
       "    <tr style=\"text-align: right;\">\n",
       "      <th></th>\n",
       "      <th>Unnamed: 0</th>\n",
       "      <th>animal</th>\n",
       "      <th>Age</th>\n",
       "      <th>visits</th>\n",
       "      <th>Priority</th>\n",
       "    </tr>\n",
       "  </thead>\n",
       "  <tbody>\n",
       "    <tr>\n",
       "      <th>0</th>\n",
       "      <td>0</td>\n",
       "      <td>cat</td>\n",
       "      <td>2.5</td>\n",
       "      <td>1.0</td>\n",
       "      <td>yes</td>\n",
       "    </tr>\n",
       "    <tr>\n",
       "      <th>1</th>\n",
       "      <td>1</td>\n",
       "      <td>cow</td>\n",
       "      <td>2.6</td>\n",
       "      <td>2.0</td>\n",
       "      <td>No</td>\n",
       "    </tr>\n",
       "    <tr>\n",
       "      <th>2</th>\n",
       "      <td>2</td>\n",
       "      <td>dog</td>\n",
       "      <td>1.8</td>\n",
       "      <td>3.0</td>\n",
       "      <td>no</td>\n",
       "    </tr>\n",
       "    <tr>\n",
       "      <th>3</th>\n",
       "      <td>f</td>\n",
       "      <td>NaN</td>\n",
       "      <td>1.5</td>\n",
       "      <td>NaN</td>\n",
       "      <td>NaN</td>\n",
       "    </tr>\n",
       "  </tbody>\n",
       "</table>\n",
       "</div>"
      ],
      "text/plain": [
       "  Unnamed: 0 animal  Age  visits Priority\n",
       "0          0    cat  2.5     1.0      yes\n",
       "1          1    cow  2.6     2.0       No\n",
       "2          2    dog  1.8     3.0       no\n",
       "3          f    NaN  1.5     NaN      NaN"
      ]
     },
     "execution_count": 65,
     "metadata": {},
     "output_type": "execute_result"
    }
   ],
   "source": [
    "anim = pd.read_csv('animal.csv')\n",
    "anim"
   ]
  },
  {
   "cell_type": "code",
   "execution_count": 69,
   "id": "e59b765a",
   "metadata": {},
   "outputs": [
    {
     "data": {
      "text/html": [
       "<div>\n",
       "<style scoped>\n",
       "    .dataframe tbody tr th:only-of-type {\n",
       "        vertical-align: middle;\n",
       "    }\n",
       "\n",
       "    .dataframe tbody tr th {\n",
       "        vertical-align: top;\n",
       "    }\n",
       "\n",
       "    .dataframe thead th {\n",
       "        text-align: right;\n",
       "    }\n",
       "</style>\n",
       "<table border=\"1\" class=\"dataframe\">\n",
       "  <thead>\n",
       "    <tr style=\"text-align: right;\">\n",
       "      <th></th>\n",
       "      <th>Unnamed: 0</th>\n",
       "      <th>a</th>\n",
       "      <th>b</th>\n",
       "      <th>c</th>\n",
       "      <th>d</th>\n",
       "      <th>e</th>\n",
       "      <th>f</th>\n",
       "    </tr>\n",
       "  </thead>\n",
       "  <tbody>\n",
       "    <tr>\n",
       "      <th>0</th>\n",
       "      <td>2023-03-03 09:52:10.119</td>\n",
       "      <td>1.066789</td>\n",
       "      <td>0.777129</td>\n",
       "      <td>-0.724006</td>\n",
       "      <td>-1.320635</td>\n",
       "      <td>-0.726429</td>\n",
       "      <td>-0.106387</td>\n",
       "    </tr>\n",
       "    <tr>\n",
       "      <th>1</th>\n",
       "      <td>2023-03-04 09:52:10.119</td>\n",
       "      <td>-0.758190</td>\n",
       "      <td>0.637647</td>\n",
       "      <td>-1.910035</td>\n",
       "      <td>-0.305003</td>\n",
       "      <td>0.318743</td>\n",
       "      <td>-1.948873</td>\n",
       "    </tr>\n",
       "    <tr>\n",
       "      <th>2</th>\n",
       "      <td>2023-03-05 09:52:10.119</td>\n",
       "      <td>-1.345016</td>\n",
       "      <td>-1.309100</td>\n",
       "      <td>1.157212</td>\n",
       "      <td>1.820633</td>\n",
       "      <td>-1.522375</td>\n",
       "      <td>0.779800</td>\n",
       "    </tr>\n",
       "    <tr>\n",
       "      <th>3</th>\n",
       "      <td>2023-03-06 09:52:10.119</td>\n",
       "      <td>-0.313580</td>\n",
       "      <td>-2.184856</td>\n",
       "      <td>1.746291</td>\n",
       "      <td>1.865490</td>\n",
       "      <td>0.398171</td>\n",
       "      <td>0.165561</td>\n",
       "    </tr>\n",
       "    <tr>\n",
       "      <th>4</th>\n",
       "      <td>2023-03-07 09:52:10.119</td>\n",
       "      <td>1.127765</td>\n",
       "      <td>-0.773036</td>\n",
       "      <td>-0.404373</td>\n",
       "      <td>-1.101184</td>\n",
       "      <td>1.275426</td>\n",
       "      <td>0.049935</td>\n",
       "    </tr>\n",
       "    <tr>\n",
       "      <th>5</th>\n",
       "      <td>2023-03-08 09:52:10.119</td>\n",
       "      <td>-0.936392</td>\n",
       "      <td>-0.428431</td>\n",
       "      <td>-0.995406</td>\n",
       "      <td>-1.777452</td>\n",
       "      <td>-0.823507</td>\n",
       "      <td>-0.583913</td>\n",
       "    </tr>\n",
       "  </tbody>\n",
       "</table>\n",
       "</div>"
      ],
      "text/plain": [
       "               Unnamed: 0         a         b         c         d         e  \\\n",
       "0 2023-03-03 09:52:10.119  1.066789  0.777129 -0.724006 -1.320635 -0.726429   \n",
       "1 2023-03-04 09:52:10.119 -0.758190  0.637647 -1.910035 -0.305003  0.318743   \n",
       "2 2023-03-05 09:52:10.119 -1.345016 -1.309100  1.157212  1.820633 -1.522375   \n",
       "3 2023-03-06 09:52:10.119 -0.313580 -2.184856  1.746291  1.865490  0.398171   \n",
       "4 2023-03-07 09:52:10.119  1.127765 -0.773036 -0.404373 -1.101184  1.275426   \n",
       "5 2023-03-08 09:52:10.119 -0.936392 -0.428431 -0.995406 -1.777452 -0.823507   \n",
       "\n",
       "          f  \n",
       "0 -0.106387  \n",
       "1 -1.948873  \n",
       "2  0.779800  \n",
       "3  0.165561  \n",
       "4  0.049935  \n",
       "5 -0.583913  "
      ]
     },
     "execution_count": 69,
     "metadata": {},
     "output_type": "execute_result"
    }
   ],
   "source": [
    "df.to_excel('animal.xlsx', sheet_name = 'Sheet1')\n",
    "\n",
    "anim2= pd.read_excel('animal.xlsx', 'Sheet1', index_col = None, na_values = ['NA'])\n",
    "anim2"
   ]
  },
  {
   "cell_type": "code",
   "execution_count": null,
   "id": "226c3c6f",
   "metadata": {},
   "outputs": [],
   "source": []
  }
 ],
 "metadata": {
  "kernelspec": {
   "display_name": "Python 3 (ipykernel)",
   "language": "python",
   "name": "python3"
  },
  "language_info": {
   "codemirror_mode": {
    "name": "ipython",
    "version": 3
   },
   "file_extension": ".py",
   "mimetype": "text/x-python",
   "name": "python",
   "nbconvert_exporter": "python",
   "pygments_lexer": "ipython3",
   "version": "3.9.13"
  }
 },
 "nbformat": 4,
 "nbformat_minor": 5
}
